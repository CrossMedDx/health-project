{
 "cells": [
  {
   "cell_type": "markdown",
   "id": "38124939",
   "metadata": {},
   "source": [
    "# Fine-tuning BioBERT model"
   ]
  },
  {
   "cell_type": "markdown",
   "id": "63224aff",
   "metadata": {},
   "source": [
    "## Package imports"
   ]
  },
  {
   "cell_type": "code",
   "execution_count": 6,
   "id": "6e0cda2a",
   "metadata": {},
   "outputs": [],
   "source": [
    "import os\n",
    "import glob\n",
    "import torch\n",
    "from torch.utils.data import Dataset, DataLoader, random_split\n",
    "from transformers import BertTokenizer, BertConfig, BertForSequenceClassification, AdamW, get_linear_schedule_with_warmup\n",
    "from sklearn.metrics import accuracy_score, precision_recall_fscore_support, classification_report, roc_auc_score"
   ]
  },
  {
   "cell_type": "markdown",
   "id": "8fde1d61",
   "metadata": {},
   "source": [
    "## Data preparation"
   ]
  },
  {
   "cell_type": "code",
   "execution_count": 7,
   "id": "b4b4758c",
   "metadata": {},
   "outputs": [],
   "source": [
    "class ReportDataset(Dataset):\n",
    "    \"\"\"\n",
    "    Dataset for radiology reports stored as .txt files.\n",
    "    Expects directory structure:\n",
    "      /path/\n",
    "          s<study_id>/report.txt\n",
    "          ...\n",
    "    And a labels file (CSV) with columns: subject_id,study_id,class\n",
    "    \"\"\"\n",
    "    def __init__(self, report_dir, labels_file, tokenizer, max_length=512):\n",
    "        import pandas as pd\n",
    "        self.tokenizer = tokenizer\n",
    "        self.max_length = max_length\n",
    "        self.reports = []\n",
    "        self.labels = []\n",
    "\n",
    "        df = pd.read_csv(labels_file)\n",
    "        # Adjust labels to be 0, 1, 2 instead of -1, 0, 1\n",
    "        df['class'] = df['class'] + 1\n",
    "        label_map = dict(zip(df['study_id'].astype(str), df['class']))\n",
    "\n",
    "        for case_dir in glob.glob(os.path.join(report_dir, '*/')):\n",
    "            report_path = os.path.join(case_dir, 'report.txt')\n",
    "            case_name = os.path.basename(os.path.normpath(case_dir))\n",
    "            study_id = case_name[1:]  # Remove the 's' prefix to get study_id\n",
    "            if study_id in label_map and os.path.exists(report_path):\n",
    "                with open(report_path, 'r', encoding='utf-8') as f:\n",
    "                    text = f.read().strip()\n",
    "                self.reports.append(text)\n",
    "                self.labels.append(label_map[study_id])\n",
    "\n",
    "    def __len__(self):\n",
    "        return len(self.reports)\n",
    "\n",
    "    def __getitem__(self, idx):\n",
    "        text = self.reports[idx]\n",
    "        label = self.labels[idx]\n",
    "        encoding = self.tokenizer(\n",
    "            text,\n",
    "            padding='max_length',\n",
    "            truncation=True,\n",
    "            max_length=self.max_length,\n",
    "            return_tensors='pt'\n",
    "        )\n",
    "        item = {key: val.squeeze(0) for key, val in encoding.items()}\n",
    "        item['labels'] = torch.tensor(label, dtype=torch.long)\n",
    "        return item"
   ]
  },
  {
   "cell_type": "markdown",
   "id": "f6102cb9",
   "metadata": {},
   "source": [
    "## Compute Metrics"
   ]
  },
  {
   "cell_type": "code",
   "execution_count": 8,
   "id": "88347ce3",
   "metadata": {},
   "outputs": [],
   "source": [
    "def compute_metrics(y_true, y_pred):\n",
    "    precision, recall, f1, _ = precision_recall_fscore_support(y_true, y_pred, average='weighted')\n",
    "    acc = accuracy_score(y_true, y_pred)\n",
    "    return {'accuracy': acc, 'precision': precision, 'recall': recall, 'f1': f1}"
   ]
  },
  {
   "cell_type": "markdown",
   "id": "f0453011",
   "metadata": {},
   "source": [
    "## Model Parameters and Tokenization"
   ]
  },
  {
   "cell_type": "code",
   "execution_count": 9,
   "id": "927e5192",
   "metadata": {},
   "outputs": [],
   "source": [
    "report_dir = \"../download_data/mimic-cxr-download/textData/\"\n",
    "labels_file = \"../download_data/metadata/pleural_effusion_brand_new.csv\"\n",
    "model_name = 'dmis-lab/biobert-base-cased-v1.1'\n",
    "num_labels = 3\n",
    "batch_size = 8\n",
    "epochs = 5\n",
    "lr = 2e-5\n",
    "weight_decay = 0.01\n",
    "dropout_rate = 0.1\n",
    "max_length = 512\n",
    "tokenizer = BertTokenizer.from_pretrained(model_name)\n",
    "dataset = ReportDataset(report_dir, labels_file, tokenizer, max_length)"
   ]
  },
  {
   "cell_type": "markdown",
   "id": "14c91291",
   "metadata": {},
   "source": [
    "## Dataset splitting"
   ]
  },
  {
   "cell_type": "code",
   "execution_count": 10,
   "id": "04702373",
   "metadata": {},
   "outputs": [],
   "source": [
    "# Split into train/val/test 70:10:20\n",
    "total_size = len(dataset)\n",
    "train_size = int(0.7 * total_size)\n",
    "val_size = int(0.1 * total_size)\n",
    "test_size = total_size - train_size - val_size\n",
    "train_ds, val_ds, test_ds = random_split(\n",
    "    dataset, [train_size, val_size, test_size],\n",
    "    generator=torch.Generator().manual_seed(42)\n",
    ")\n",
    "\n",
    "# DataLoaders\n",
    "train_loader = DataLoader(train_ds, batch_size=batch_size, shuffle=True)\n",
    "val_loader = DataLoader(val_ds, batch_size=batch_size)\n",
    "test_loader = DataLoader(test_ds, batch_size=batch_size)"
   ]
  },
  {
   "cell_type": "markdown",
   "id": "315518f2",
   "metadata": {},
   "source": [
    "## Model config, optimizer, and scheduler"
   ]
  },
  {
   "cell_type": "code",
   "execution_count": 11,
   "id": "bd4a9eb1",
   "metadata": {},
   "outputs": [
    {
     "name": "stderr",
     "output_type": "stream",
     "text": [
      "Some weights of BertForSequenceClassification were not initialized from the model checkpoint at dmis-lab/biobert-base-cased-v1.1 and are newly initialized: ['classifier.bias', 'classifier.weight']\n",
      "You should probably TRAIN this model on a down-stream task to be able to use it for predictions and inference.\n",
      "/home/han/.local/lib/python3.10/site-packages/transformers/optimization.py:640: FutureWarning: This implementation of AdamW is deprecated and will be removed in a future version. Use the PyTorch implementation torch.optim.AdamW instead, or set `no_deprecation_warning=True` to disable this warning\n",
      "  warnings.warn(\n"
     ]
    }
   ],
   "source": [
    "# Model configuration with dropout\n",
    "config = BertConfig.from_pretrained(\n",
    "    model_name,\n",
    "    num_labels=num_labels,\n",
    "    hidden_dropout_prob=dropout_rate,\n",
    "    attention_probs_dropout_prob=dropout_rate\n",
    ")\n",
    "model = BertForSequenceClassification.from_pretrained(model_name, config=config)\n",
    "device = torch.device('cuda' if torch.cuda.is_available() else 'cpu')\n",
    "model.to(device)\n",
    "\n",
    "# Optimizer and scheduler\n",
    "optimizer = AdamW(model.parameters(), lr=lr, weight_decay=weight_decay)\n",
    "total_steps = len(train_loader) * epochs\n",
    "scheduler = get_linear_schedule_with_warmup(\n",
    "    optimizer,\n",
    "    num_warmup_steps=int(0.1 * total_steps),\n",
    "    num_training_steps=total_steps\n",
    ")"
   ]
  },
  {
   "cell_type": "markdown",
   "id": "eb617611",
   "metadata": {},
   "source": [
    "## Train loop and validation"
   ]
  },
  {
   "cell_type": "code",
   "execution_count": 12,
   "id": "ea90e5f2",
   "metadata": {},
   "outputs": [
    {
     "name": "stdout",
     "output_type": "stream",
     "text": [
      "Epoch 1/1 - Train loss: 0.9972\n",
      "Validation Report:\n",
      "              precision    recall  f1-score   support\n",
      "\n",
      "           0       0.62      0.77      0.69        31\n",
      "           1       0.79      0.93      0.85        40\n",
      "           2       0.88      0.61      0.72        49\n",
      "\n",
      "    accuracy                           0.76       120\n",
      "   macro avg       0.76      0.77      0.75       120\n",
      "weighted avg       0.78      0.76      0.76       120\n",
      "\n"
     ]
    }
   ],
   "source": [
    "# Training and validation\n",
    "epochs = 1\n",
    "for epoch in range(1, epochs + 1):\n",
    "    model.train()\n",
    "    total_loss = 0\n",
    "    for batch in train_loader:\n",
    "        optimizer.zero_grad()\n",
    "        inputs = {k: v.to(device) for k, v in batch.items() if k != 'labels'}\n",
    "        labels = batch['labels'].to(device)\n",
    "        outputs = model(**inputs, labels=labels)\n",
    "        loss = outputs.loss\n",
    "        total_loss += loss.item()\n",
    "        loss.backward()\n",
    "        optimizer.step()\n",
    "        scheduler.step()\n",
    "    avg_train_loss = total_loss / len(train_loader)\n",
    "    print(f\"Epoch {epoch}/{epochs} - Train loss: {avg_train_loss:.4f}\")\n",
    "\n",
    "    # Validation\n",
    "    model.eval()\n",
    "    val_preds, val_labels = [], []\n",
    "    with torch.no_grad():\n",
    "        for batch in val_loader:\n",
    "            inputs = {k: v.to(device) for k, v in batch.items() if k != 'labels'}\n",
    "            labels = batch['labels'].to(device)\n",
    "            logits = model(**inputs).logits\n",
    "            preds = torch.argmax(logits, dim=1)\n",
    "            val_preds.extend(preds.cpu().tolist())\n",
    "            val_labels.extend(labels.cpu().tolist())\n",
    "    print(\"Validation Report:\")\n",
    "    print(classification_report(val_labels, val_preds))"
   ]
  },
  {
   "cell_type": "markdown",
   "id": "ca83df13",
   "metadata": {},
   "source": [
    "## Evaluation"
   ]
  },
  {
   "cell_type": "code",
   "execution_count": 16,
   "id": "aedfb05e",
   "metadata": {},
   "outputs": [
    {
     "name": "stdout",
     "output_type": "stream",
     "text": [
      "Test Report:\n",
      "              precision    recall  f1-score   support\n",
      "\n",
      "           0       0.69      0.72      0.70        82\n",
      "           1       0.81      0.95      0.87        83\n",
      "           2       0.77      0.57      0.66        75\n",
      "\n",
      "    accuracy                           0.75       240\n",
      "   macro avg       0.75      0.75      0.74       240\n",
      "weighted avg       0.75      0.75      0.75       240\n",
      "\n"
     ]
    }
   ],
   "source": [
    "# Test set evaluation\n",
    "model.eval()\n",
    "test_preds, test_labels = [], []\n",
    "all_labels = []\n",
    "all_probs = []\n",
    "with torch.no_grad():\n",
    "    for batch in test_loader:\n",
    "        inputs = {k: v.to(device) for k, v in batch.items() if k != 'labels'}\n",
    "        labels = batch['labels'].to(device)\n",
    "        logits = model(**inputs).logits\n",
    "        preds = torch.argmax(logits, dim=1)\n",
    "        test_preds.extend(preds.cpu().tolist())\n",
    "        test_labels.extend(labels.cpu().tolist())\n",
    "        all_labels.extend(labels.cpu().numpy())\n",
    "        all_probs.extend(torch.softmax(logits, dim=1).cpu().numpy())\n",
    "print(\"Test Report:\")\n",
    "print(classification_report(test_labels, test_preds))"
   ]
  },
  {
   "cell_type": "code",
   "execution_count": 18,
   "id": "0ee421ba",
   "metadata": {},
   "outputs": [
    {
     "name": "stdout",
     "output_type": "stream",
     "text": [
      "AUROC: 0.8986\n"
     ]
    }
   ],
   "source": [
    "import numpy as np\n",
    "auroc = roc_auc_score(\n",
    "        all_labels, np.array(all_probs), multi_class=\"ovr\", average=\"macro\"\n",
    "    )\n",
    "print(f\"AUROC: {auroc:.4f}\")"
   ]
  }
 ],
 "metadata": {
  "kernelspec": {
   "display_name": "Python 3",
   "language": "python",
   "name": "python3"
  },
  "language_info": {
   "codemirror_mode": {
    "name": "ipython",
    "version": 3
   },
   "file_extension": ".py",
   "mimetype": "text/x-python",
   "name": "python",
   "nbconvert_exporter": "python",
   "pygments_lexer": "ipython3",
   "version": "3.10.12"
  }
 },
 "nbformat": 4,
 "nbformat_minor": 5
}

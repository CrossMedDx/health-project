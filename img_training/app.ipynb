{
 "cells": [
  {
   "cell_type": "markdown",
   "id": "553856ae",
   "metadata": {},
   "source": [
    "## Imports & Setup"
   ]
  },
  {
   "cell_type": "code",
   "execution_count": 1,
   "id": "e639799f",
   "metadata": {},
   "outputs": [
    {
     "name": "stdout",
     "output_type": "stream",
     "text": [
      "Using device: cuda\n"
     ]
    }
   ],
   "source": [
    "import os\n",
    "import random\n",
    "import numpy as np\n",
    "import pandas as pd\n",
    "import pydicom\n",
    "from PIL import Image\n",
    "\n",
    "import torch\n",
    "import torch.nn as nn\n",
    "import torch.optim as optim\n",
    "from torch.utils.data import Dataset, DataLoader\n",
    "\n",
    "from sklearn.model_selection import train_test_split\n",
    "from sklearn.metrics import (\n",
    "    precision_score, recall_score, f1_score,\n",
    "    roc_auc_score, average_precision_score,\n",
    "    confusion_matrix\n",
    ")\n",
    "\n",
    "from torchvision import transforms\n",
    "from transformers import ViTForImageClassification\n",
    "\n",
    "# Reproducibility\n",
    "SEED = 42\n",
    "random.seed(SEED)\n",
    "np.random.seed(SEED)\n",
    "torch.manual_seed(SEED)\n",
    "device = torch.device(\"cuda\" if torch.cuda.is_available() else \"cpu\")\n",
    "print(\"Using device:\", device)"
   ]
  },
  {
   "cell_type": "markdown",
   "id": "2f815e4c",
   "metadata": {},
   "source": [
    "## Dataset Class & Transforms"
   ]
  },
  {
   "cell_type": "code",
   "execution_count": 2,
   "id": "01732f09",
   "metadata": {},
   "outputs": [],
   "source": [
    "class CustomMedicalImageDataset(Dataset):\n",
    "    def __init__(self, image_paths, labels, transform=None):\n",
    "        self.image_paths = image_paths\n",
    "        self.labels = labels\n",
    "        self.transform = transform\n",
    "\n",
    "    def __len__(self):\n",
    "        return len(self.image_paths)\n",
    "\n",
    "    def __getitem__(self, idx):\n",
    "        try:\n",
    "            dcm = pydicom.dcmread(self.image_paths[idx])\n",
    "            arr = dcm.pixel_array.astype(np.float32)\n",
    "            img = Image.fromarray((arr/arr.max()*255).astype(np.uint8)).convert(\"RGB\")\n",
    "            if self.transform:\n",
    "                img = self.transform(img)\n",
    "            label = torch.tensor(self.labels[idx], dtype=torch.float32)\n",
    "            return img, label\n",
    "        except Exception as e:\n",
    "            print(f\"Error reading {self.image_paths[idx]}: {e}\")\n",
    "            raise e\n",
    "\n",
    "transform = transforms.Compose([\n",
    "    transforms.Resize((224,224)),\n",
    "    transforms.RandomHorizontalFlip(),\n",
    "    transforms.RandomRotation(20),\n",
    "    transforms.ColorJitter(0.2,0.2,0.2,0.2),\n",
    "    transforms.ToTensor(),\n",
    "    transforms.Normalize(mean=[0.485,0.456,0.406], std=[0.229,0.224,0.225])\n",
    "])"
   ]
  },
  {
   "cell_type": "markdown",
   "id": "629d2847",
   "metadata": {},
   "source": [
    "## Load Paths & Labels"
   ]
  },
  {
   "cell_type": "code",
   "execution_count": 3,
   "id": "3485e3dc",
   "metadata": {},
   "outputs": [
    {
     "name": "stdout",
     "output_type": "stream",
     "text": [
      "Total samples: 7199\n"
     ]
    }
   ],
   "source": [
    "image_dir = \"/mnt/e/ecs289l/mimic-cxr-download/imageData/\"\n",
    "all_paths = []\n",
    "for root, _, files in os.walk(image_dir):\n",
    "    for f in files:\n",
    "        if f.endswith(\".dcm\"):\n",
    "            all_paths.append(os.path.join(root, f))\n",
    "\n",
    "meta = pd.read_csv(\n",
    "    \"../download_data/metadata/edema+pleural_effusion_samples_v2.csv\",\n",
    "    dtype={'study_id': str}\n",
    ")\n",
    "meta['study_id'] = 's' + meta['study_id']\n",
    "label_map = meta.set_index('study_id')[['edema','effusion']].to_dict(orient='index')\n",
    "\n",
    "paths, labels = [], []\n",
    "for p in all_paths:\n",
    "    sid = os.path.basename(os.path.dirname(p))\n",
    "    if sid in label_map:\n",
    "        paths.append(p)\n",
    "        labels.append([label_map[sid]['edema'], label_map[sid]['effusion']])\n",
    "labels = np.array(labels)\n",
    "print(f\"Total samples: {len(paths)}\")"
   ]
  },
  {
   "cell_type": "markdown",
   "id": "20e16e9e",
   "metadata": {},
   "source": [
    "## Split"
   ]
  },
  {
   "cell_type": "code",
   "execution_count": 4,
   "id": "31bf7519",
   "metadata": {},
   "outputs": [
    {
     "name": "stdout",
     "output_type": "stream",
     "text": [
      "Train / Val / Test sizes: 5039 720 1440\n"
     ]
    }
   ],
   "source": [
    "train_data, test_val_data, train_labels, test_val_labels = train_test_split(\n",
    "    paths, labels, test_size=0.3, random_state=SEED, shuffle=True, stratify=labels\n",
    ")\n",
    "test_data, val_data, test_labels, val_labels = train_test_split(\n",
    "    test_val_data, test_val_labels, test_size=1/3, random_state=SEED, shuffle=True, stratify=test_val_labels\n",
    ")\n",
    "\n",
    "print(\"Train / Val / Test sizes:\", len(train_data), len(val_data), len(test_data))\n",
    "\n",
    "train_ds = CustomMedicalImageDataset(train_data, train_labels, transform=transform)\n",
    "val_ds = CustomMedicalImageDataset(val_data, val_labels, transform=transform)\n",
    "test_ds = CustomMedicalImageDataset(test_data, test_labels, transform=transform)"
   ]
  },
  {
   "cell_type": "markdown",
   "id": "561168c9",
   "metadata": {},
   "source": [
    "## Training"
   ]
  },
  {
   "cell_type": "code",
   "execution_count": 16,
   "id": "2f27f047",
   "metadata": {},
   "outputs": [],
   "source": [
    "from tqdm import tqdm\n",
    "\n",
    "def train_epoch(model, loader, optimizer, criterion, device):\n",
    "    model.train()\n",
    "    total_loss = 0.0\n",
    "    for imgs, labs in tqdm(loader, desc=\"Training\"):\n",
    "        imgs, labs = imgs.to(device), labs.to(device)\n",
    "        optimizer.zero_grad()\n",
    "        logits = model(imgs).logits\n",
    "        loss = criterion(logits, labs)\n",
    "        loss.backward()\n",
    "        optimizer.step()\n",
    "        total_loss += loss.item()\n",
    "    return total_loss / len(loader)\n",
    "\n",
    "\n",
    "def validate_epoch(model, loader, criterion, device):\n",
    "    model.eval()\n",
    "    total_loss = 0.0\n",
    "    with torch.no_grad():\n",
    "        for imgs, labs in tqdm(loader, desc=\"Validation\"):\n",
    "            imgs, labs = imgs.to(device), labs.to(device)\n",
    "            logits = model(imgs).logits\n",
    "            total_loss += criterion(logits, labs).item()\n",
    "    return total_loss / len(loader)\n",
    "\n",
    "\n",
    "def run_training(combo, train_loader, val_loader, model, device):\n",
    "    # Unpack combo\n",
    "    dp, wd, lr = combo['dropout_rate'], combo['weight_decay'], combo['learning_rate']\n",
    "    ne, pt  = combo['num_epochs'], combo.get('patience', 5)\n",
    "\n",
    "    # Configure model, loss, optimizer\n",
    "    model.config.classifier_dropout = dp\n",
    "    criterion = nn.BCEWithLogitsLoss()\n",
    "    optimizer = optim.AdamW(model.parameters(), lr=lr, weight_decay=wd)\n",
    "\n",
    "    best_val_loss = float('inf')\n",
    "    no_improve = 0\n",
    "\n",
    "    for epoch in range(1, ne+1):\n",
    "        train_loss = train_epoch(model, train_loader, optimizer, criterion, device)\n",
    "        val_loss = validate_epoch(model, val_loader, criterion, device)\n",
    "        print(f\"Epoch {epoch}/{ne}: train_loss={train_loss:.4f}, val_loss={val_loss:.4f}\")\n",
    "\n",
    "        # Early stopping\n",
    "        if val_loss < best_val_loss:\n",
    "            best_val_loss = val_loss\n",
    "            no_improve = 0\n",
    "        else:\n",
    "            no_improve += 1\n",
    "            if no_improve >= pt:\n",
    "                print(f\"Early stopping at epoch {epoch}\")\n",
    "                break"
   ]
  },
  {
   "cell_type": "markdown",
   "id": "ee081ddf",
   "metadata": {},
   "source": [
    "## Evaluation"
   ]
  },
  {
   "cell_type": "code",
   "execution_count": 17,
   "id": "02a66f0d",
   "metadata": {},
   "outputs": [],
   "source": [
    "from sklearn.metrics import ConfusionMatrixDisplay\n",
    "\n",
    "import matplotlib.pyplot as plt\n",
    "\n",
    "def evaluate_model(model, test_loader, device):\n",
    "    model.eval()\n",
    "    all_labels, all_probs = [], []\n",
    "    with torch.no_grad():\n",
    "        for imgs, labs in test_loader:\n",
    "            imgs = imgs.to(device)\n",
    "            logits = model(imgs).logits.cpu().numpy()\n",
    "            probs = torch.sigmoid(torch.tensor(logits)).numpy()\n",
    "            all_probs.append(probs)\n",
    "            all_labels.append(labs.numpy())\n",
    "    all_probs  = np.vstack(all_probs)\n",
    "    all_labels = np.vstack(all_labels)\n",
    "    preds = (all_probs >= 0.5).astype(int)\n",
    "\n",
    "    metrics = {}\n",
    "    for i, name in enumerate(['edema','effusion']):\n",
    "        y_true = all_labels[:,i]\n",
    "        y_pred = preds[:,i]\n",
    "        y_prob = all_probs[:,i]\n",
    "        precision = precision_score(y_true, y_pred)\n",
    "        recall = recall_score(y_true, y_pred)\n",
    "        f1 = f1_score(y_true, y_pred)\n",
    "        auroc = roc_auc_score(y_true, y_prob)\n",
    "        auprc = average_precision_score(y_true, y_prob)\n",
    "        tn, fp, fn, tp = confusion_matrix(y_true, y_pred).ravel()\n",
    "        sens = tp/(tp+fn)\n",
    "        spec = tn/(tn+fp)\n",
    "        metrics[name] = {\n",
    "            'precision': precision, 'recall': recall,\n",
    "            'f1': f1, 'auroc': auroc,\n",
    "            'auprc': auprc, 'sensitivity': sens,\n",
    "            'specificity': spec\n",
    "        }\n",
    "        # Plot confusion matrix\n",
    "        disp = ConfusionMatrixDisplay(confusion_matrix=confusion_matrix(y_true, y_pred))\n",
    "        disp.plot()\n",
    "        plt.title(f'Confusion Matrix: {name}')\n",
    "        plt.show()\n",
    "    return metrics"
   ]
  },
  {
   "cell_type": "markdown",
   "id": "70f30d76",
   "metadata": {},
   "source": [
    "## Execute Hyperparameter Combinations"
   ]
  },
  {
   "cell_type": "code",
   "execution_count": null,
   "id": "3c40d09c",
   "metadata": {},
   "outputs": [],
   "source": [
    "import json\n",
    "\n",
    "hyperparameter_combinations = []\n",
    "for dropout_rate in [0.1, 0.2]:\n",
    "    for weight_decay in [0, 0.01, 0.1]:\n",
    "        for learning_rate in [1e-5, 5e-5, 2e-4]:\n",
    "            for batch_size in [16, 32, 64]:\n",
    "                for num_epochs in [20]:\n",
    "                    hyperparameter_combinations.append({\n",
    "                        'dropout_rate': dropout_rate,\n",
    "                        'weight_decay': weight_decay,\n",
    "                        'learning_rate': learning_rate,\n",
    "                        'batch_size': batch_size,\n",
    "                        'num_epochs': num_epochs\n",
    "                    })\n",
    "\n",
    "combo_results = []\n",
    "\n",
    "def execute_hyperparameter_combinations(combo):\n",
    "    # Unpack combo\n",
    "    dp, wd, lr, bs = combo['dropout_rate'], combo['weight_decay'], combo['learning_rate'], combo['batch_size']\n",
    "    name = f\"dp{dp}_wd{wd}_lr{lr}_bs{bs}\"\n",
    "    print(f\"Running combination: {name}\")\n",
    "\n",
    "    # Create DataLoader with current batch size\n",
    "    train_loader = DataLoader(train_ds, batch_size=bs, shuffle=True, num_workers=4)\n",
    "    val_loader = DataLoader(val_ds, batch_size=bs, shuffle=False, num_workers=4)\n",
    "    test_loader = DataLoader(test_ds, batch_size=bs, shuffle=False, num_workers=4)\n",
    "\n",
    "    # Load model\n",
    "    model = ViTForImageClassification.from_pretrained(\n",
    "        \"google/vit-base-patch16-224-in21k\",\n",
    "        num_labels=2\n",
    "    ).to(device)\n",
    "\n",
    "    # Run training\n",
    "    run_training(combo, train_loader, val_loader, model, device)\n",
    "\n",
    "    # Evaluate model\n",
    "    metrics = evaluate_model(model, test_loader, device)\n",
    "    print(f\"Metrics for {name}: {metrics}\")\n",
    "    combo_results.append({\n",
    "        'name': name,\n",
    "        'combo': combo,\n",
    "        'metrics': metrics\n",
    "    })\n",
    "\n",
    "    # Save results\n",
    "    with open(\"results.json\", \"r\") as f:\n",
    "        results = json.load(f)\n",
    "    results.append({\n",
    "        'name': name,\n",
    "        'combo': combo,\n",
    "        'metrics': metrics\n",
    "    })\n",
    "    with open(\"results.json\", \"w\") as f:\n",
    "        json.dump(results, f, indent=4)"
   ]
  },
  {
   "cell_type": "code",
   "execution_count": 19,
   "id": "bb48ba37",
   "metadata": {},
   "outputs": [
    {
     "name": "stdout",
     "output_type": "stream",
     "text": [
      "Running combination: dp0.1_wd0_lr1e-05_bs16\n"
     ]
    },
    {
     "name": "stderr",
     "output_type": "stream",
     "text": [
      "Some weights of ViTForImageClassification were not initialized from the model checkpoint at google/vit-base-patch16-224-in21k and are newly initialized: ['classifier.bias', 'classifier.weight']\n",
      "You should probably TRAIN this model on a down-stream task to be able to use it for predictions and inference.\n",
      "Training: 100%|██████████| 315/315 [05:07<00:00,  1.02it/s]\n",
      "Validation: 100%|██████████| 45/45 [00:45<00:00,  1.02s/it]\n"
     ]
    },
    {
     "name": "stdout",
     "output_type": "stream",
     "text": [
      "Epoch 1/30: train_loss=0.5171, val_loss=0.4781\n"
     ]
    },
    {
     "name": "stderr",
     "output_type": "stream",
     "text": [
      "Training: 100%|██████████| 315/315 [04:46<00:00,  1.10it/s]\n",
      "Validation: 100%|██████████| 45/45 [00:43<00:00,  1.03it/s]\n"
     ]
    },
    {
     "name": "stdout",
     "output_type": "stream",
     "text": [
      "Epoch 2/30: train_loss=0.4000, val_loss=0.4203\n"
     ]
    },
    {
     "name": "stderr",
     "output_type": "stream",
     "text": [
      "Training: 100%|██████████| 315/315 [04:43<00:00,  1.11it/s]\n",
      "Validation: 100%|██████████| 45/45 [00:42<00:00,  1.06it/s]\n"
     ]
    },
    {
     "name": "stdout",
     "output_type": "stream",
     "text": [
      "Epoch 3/30: train_loss=0.3690, val_loss=0.4183\n"
     ]
    },
    {
     "name": "stderr",
     "output_type": "stream",
     "text": [
      "Training: 100%|██████████| 315/315 [04:44<00:00,  1.11it/s]\n",
      "Validation: 100%|██████████| 45/45 [00:43<00:00,  1.05it/s]\n"
     ]
    },
    {
     "name": "stdout",
     "output_type": "stream",
     "text": [
      "Epoch 4/30: train_loss=0.3484, val_loss=0.3992\n"
     ]
    },
    {
     "name": "stderr",
     "output_type": "stream",
     "text": [
      "Training: 100%|██████████| 315/315 [04:55<00:00,  1.07it/s]\n",
      "Validation: 100%|██████████| 45/45 [00:43<00:00,  1.03it/s]\n"
     ]
    },
    {
     "name": "stdout",
     "output_type": "stream",
     "text": [
      "Epoch 5/30: train_loss=0.3323, val_loss=0.3962\n"
     ]
    },
    {
     "name": "stderr",
     "output_type": "stream",
     "text": [
      "Training: 100%|██████████| 315/315 [04:38<00:00,  1.13it/s]\n",
      "Validation: 100%|██████████| 45/45 [00:42<00:00,  1.06it/s]\n"
     ]
    },
    {
     "name": "stdout",
     "output_type": "stream",
     "text": [
      "Epoch 6/30: train_loss=0.3137, val_loss=0.3871\n"
     ]
    },
    {
     "name": "stderr",
     "output_type": "stream",
     "text": [
      "Training: 100%|██████████| 315/315 [04:39<00:00,  1.13it/s]\n",
      "Validation: 100%|██████████| 45/45 [00:42<00:00,  1.07it/s]\n"
     ]
    },
    {
     "name": "stdout",
     "output_type": "stream",
     "text": [
      "Epoch 7/30: train_loss=0.3038, val_loss=0.4036\n"
     ]
    },
    {
     "name": "stderr",
     "output_type": "stream",
     "text": [
      "Training: 100%|██████████| 315/315 [04:39<00:00,  1.13it/s]\n",
      "Validation: 100%|██████████| 45/45 [00:41<00:00,  1.07it/s]\n"
     ]
    },
    {
     "name": "stdout",
     "output_type": "stream",
     "text": [
      "Epoch 8/30: train_loss=0.2844, val_loss=0.3929\n"
     ]
    },
    {
     "name": "stderr",
     "output_type": "stream",
     "text": [
      "Training: 100%|██████████| 315/315 [04:39<00:00,  1.13it/s]\n",
      "Validation: 100%|██████████| 45/45 [00:42<00:00,  1.06it/s]\n"
     ]
    },
    {
     "name": "stdout",
     "output_type": "stream",
     "text": [
      "Epoch 9/30: train_loss=0.2710, val_loss=0.3990\n"
     ]
    },
    {
     "name": "stderr",
     "output_type": "stream",
     "text": [
      "Training: 100%|██████████| 315/315 [04:44<00:00,  1.11it/s]\n",
      "Validation: 100%|██████████| 45/45 [00:43<00:00,  1.05it/s]\n"
     ]
    },
    {
     "name": "stdout",
     "output_type": "stream",
     "text": [
      "Epoch 10/30: train_loss=0.2600, val_loss=0.3967\n"
     ]
    },
    {
     "name": "stderr",
     "output_type": "stream",
     "text": [
      "Training: 100%|██████████| 315/315 [04:42<00:00,  1.11it/s]\n",
      "Validation: 100%|██████████| 45/45 [00:41<00:00,  1.07it/s]"
     ]
    },
    {
     "name": "stdout",
     "output_type": "stream",
     "text": [
      "Epoch 11/30: train_loss=0.2455, val_loss=0.4138\n",
      "Early stopping at epoch 11\n"
     ]
    },
    {
     "name": "stderr",
     "output_type": "stream",
     "text": [
      "\n"
     ]
    },
    {
     "data": {
      "image/png": "[encoded data removed]",
      "text/plain": [
       "<Figure size 640x480 with 2 Axes>"
      ]
     },
     "metadata": {},
     "output_type": "display_data"
    },
    {
     "data": {
      "image/png": "[encoded data removed]",
      "text/plain": [
       "<Figure size 640x480 with 2 Axes>"
      ]
     },
     "metadata": {},
     "output_type": "display_data"
    },
    {
     "name": "stdout",
     "output_type": "stream",
     "text": [
      "Metrics for dp0.1_wd0_lr1e-05_bs16: {'edema': {'precision': 0.8503649635036497, 'recall': 0.7491961414790996, 'f1': 0.7965811965811965, 'auroc': 0.9110881374853576, 'auprc': 0.8917649545507675, 'sensitivity': 0.7491961414790996, 'specificity': 0.8997555012224939}, 'effusion': {'precision': 0.8381995133819952, 'recall': 0.9053876478318003, 'f1': 0.8704990524320909, 'auroc': 0.9324100720120607, 'auprc': 0.9384489346758536, 'sensitivity': 0.9053876478318003, 'specificity': 0.8041237113402062}}\n",
      "Running combination: dp0.1_wd0_lr1e-05_bs32\n"
     ]
    },
    {
     "name": "stderr",
     "output_type": "stream",
     "text": [
      "Some weights of ViTForImageClassification were not initialized from the model checkpoint at google/vit-base-patch16-224-in21k and are newly initialized: ['classifier.bias', 'classifier.weight']\n",
      "You should probably TRAIN this model on a down-stream task to be able to use it for predictions and inference.\n",
      "Training: 100%|██████████| 158/158 [04:26<00:00,  1.69s/it]\n",
      "Validation: 100%|██████████| 23/23 [00:40<00:00,  1.77s/it]\n"
     ]
    },
    {
     "name": "stdout",
     "output_type": "stream",
     "text": [
      "Epoch 1/30: train_loss=0.5579, val_loss=0.4815\n"
     ]
    },
    {
     "name": "stderr",
     "output_type": "stream",
     "text": [
      "Training: 100%|██████████| 158/158 [04:26<00:00,  1.68s/it]\n",
      "Validation: 100%|██████████| 23/23 [00:40<00:00,  1.75s/it]\n"
     ]
    },
    {
     "name": "stdout",
     "output_type": "stream",
     "text": [
      "Epoch 2/30: train_loss=0.4259, val_loss=0.4383\n"
     ]
    },
    {
     "name": "stderr",
     "output_type": "stream",
     "text": [
      "Training: 100%|██████████| 158/158 [04:23<00:00,  1.67s/it]\n",
      "Validation: 100%|██████████| 23/23 [00:40<00:00,  1.77s/it]\n"
     ]
    },
    {
     "name": "stdout",
     "output_type": "stream",
     "text": [
      "Epoch 3/30: train_loss=0.3888, val_loss=0.4194\n"
     ]
    },
    {
     "name": "stderr",
     "output_type": "stream",
     "text": [
      "Training: 100%|██████████| 158/158 [04:41<00:00,  1.78s/it]\n",
      "Validation: 100%|██████████| 23/23 [00:43<00:00,  1.88s/it]\n"
     ]
    },
    {
     "name": "stdout",
     "output_type": "stream",
     "text": [
      "Epoch 4/30: train_loss=0.3629, val_loss=0.4081\n"
     ]
    },
    {
     "name": "stderr",
     "output_type": "stream",
     "text": [
      "Training: 100%|██████████| 158/158 [04:24<00:00,  1.68s/it]\n",
      "Validation: 100%|██████████| 23/23 [00:40<00:00,  1.76s/it]\n"
     ]
    },
    {
     "name": "stdout",
     "output_type": "stream",
     "text": [
      "Epoch 5/30: train_loss=0.3440, val_loss=0.4131\n"
     ]
    },
    {
     "name": "stderr",
     "output_type": "stream",
     "text": [
      "Training: 100%|██████████| 158/158 [04:24<00:00,  1.67s/it]\n",
      "Validation: 100%|██████████| 23/23 [00:40<00:00,  1.75s/it]\n"
     ]
    },
    {
     "name": "stdout",
     "output_type": "stream",
     "text": [
      "Epoch 6/30: train_loss=0.3319, val_loss=0.3982\n"
     ]
    },
    {
     "name": "stderr",
     "output_type": "stream",
     "text": [
      "Training: 100%|██████████| 158/158 [04:23<00:00,  1.67s/it]\n",
      "Validation: 100%|██████████| 23/23 [00:40<00:00,  1.75s/it]\n"
     ]
    },
    {
     "name": "stdout",
     "output_type": "stream",
     "text": [
      "Epoch 7/30: train_loss=0.3165, val_loss=0.4274\n"
     ]
    },
    {
     "name": "stderr",
     "output_type": "stream",
     "text": [
      "Training: 100%|██████████| 158/158 [04:26<00:00,  1.69s/it]\n",
      "Validation: 100%|██████████| 23/23 [00:40<00:00,  1.76s/it]\n"
     ]
    },
    {
     "name": "stdout",
     "output_type": "stream",
     "text": [
      "Epoch 8/30: train_loss=0.3046, val_loss=0.3914\n"
     ]
    },
    {
     "name": "stderr",
     "output_type": "stream",
     "text": [
      "Training: 100%|██████████| 158/158 [04:24<00:00,  1.67s/it]\n",
      "Validation: 100%|██████████| 23/23 [00:40<00:00,  1.76s/it]\n"
     ]
    },
    {
     "name": "stdout",
     "output_type": "stream",
     "text": [
      "Epoch 9/30: train_loss=0.2963, val_loss=0.4055\n"
     ]
    },
    {
     "name": "stderr",
     "output_type": "stream",
     "text": [
      "Training: 100%|██████████| 158/158 [04:25<00:00,  1.68s/it]\n",
      "Validation: 100%|██████████| 23/23 [00:40<00:00,  1.75s/it]\n"
     ]
    },
    {
     "name": "stdout",
     "output_type": "stream",
     "text": [
      "Epoch 10/30: train_loss=0.2806, val_loss=0.3986\n"
     ]
    },
    {
     "name": "stderr",
     "output_type": "stream",
     "text": [
      "Training: 100%|██████████| 158/158 [04:24<00:00,  1.68s/it]\n",
      "Validation: 100%|██████████| 23/23 [00:40<00:00,  1.76s/it]\n"
     ]
    },
    {
     "name": "stdout",
     "output_type": "stream",
     "text": [
      "Epoch 11/30: train_loss=0.2723, val_loss=0.4027\n"
     ]
    },
    {
     "name": "stderr",
     "output_type": "stream",
     "text": [
      "Training: 100%|██████████| 158/158 [04:23<00:00,  1.67s/it]\n",
      "Validation: 100%|██████████| 23/23 [00:40<00:00,  1.77s/it]\n"
     ]
    },
    {
     "name": "stdout",
     "output_type": "stream",
     "text": [
      "Epoch 12/30: train_loss=0.2580, val_loss=0.3911\n"
     ]
    },
    {
     "name": "stderr",
     "output_type": "stream",
     "text": [
      "Training: 100%|██████████| 158/158 [04:25<00:00,  1.68s/it]\n",
      "Validation: 100%|██████████| 23/23 [00:40<00:00,  1.77s/it]\n"
     ]
    },
    {
     "name": "stdout",
     "output_type": "stream",
     "text": [
      "Epoch 13/30: train_loss=0.2519, val_loss=0.3919\n"
     ]
    },
    {
     "name": "stderr",
     "output_type": "stream",
     "text": [
      "Training: 100%|██████████| 158/158 [04:26<00:00,  1.69s/it]\n",
      "Validation: 100%|██████████| 23/23 [00:40<00:00,  1.76s/it]\n"
     ]
    },
    {
     "name": "stdout",
     "output_type": "stream",
     "text": [
      "Epoch 14/30: train_loss=0.2350, val_loss=0.4506\n"
     ]
    },
    {
     "name": "stderr",
     "output_type": "stream",
     "text": [
      "Training: 100%|██████████| 158/158 [04:23<00:00,  1.66s/it]\n",
      "Validation: 100%|██████████| 23/23 [00:40<00:00,  1.75s/it]\n"
     ]
    },
    {
     "name": "stdout",
     "output_type": "stream",
     "text": [
      "Epoch 15/30: train_loss=0.2275, val_loss=0.3953\n"
     ]
    },
    {
     "name": "stderr",
     "output_type": "stream",
     "text": [
      "Training: 100%|██████████| 158/158 [04:22<00:00,  1.66s/it]\n",
      "Validation: 100%|██████████| 23/23 [00:40<00:00,  1.76s/it]\n"
     ]
    },
    {
     "name": "stdout",
     "output_type": "stream",
     "text": [
      "Epoch 16/30: train_loss=0.2224, val_loss=0.4041\n"
     ]
    },
    {
     "name": "stderr",
     "output_type": "stream",
     "text": [
      "Training: 100%|██████████| 158/158 [04:24<00:00,  1.68s/it]\n",
      "Validation: 100%|██████████| 23/23 [00:40<00:00,  1.78s/it]"
     ]
    },
    {
     "name": "stdout",
     "output_type": "stream",
     "text": [
      "Epoch 17/30: train_loss=0.2062, val_loss=0.4093\n",
      "Early stopping at epoch 17\n"
     ]
    },
    {
     "name": "stderr",
     "output_type": "stream",
     "text": [
      "\n"
     ]
    },
    {
     "data": {
      "image/png": "[encoded data removed]",
      "text/plain": [
       "<Figure size 640x480 with 2 Axes>"
      ]
     },
     "metadata": {},
     "output_type": "display_data"
    },
    {
     "data": {
      "image/png": "[encoded data removed]",
      "text/plain": [
       "<Figure size 640x480 with 2 Axes>"
      ]
     },
     "metadata": {},
     "output_type": "display_data"
    },
    {
     "name": "stdout",
     "output_type": "stream",
     "text": [
      "Metrics for dp0.1_wd0_lr1e-05_bs32: {'edema': {'precision': 0.8015384615384615, 'recall': 0.837620578778135, 'f1': 0.8191823899371069, 'auroc': 0.9127292667395185, 'auprc': 0.8874252686295385, 'sensitivity': 0.837620578778135, 'specificity': 0.8422982885085575}, 'effusion': {'precision': 0.8531746031746031, 'recall': 0.8475689881734559, 'f1': 0.8503625576796309, 'auroc': 0.9269912660459553, 'auprc': 0.9279207322708914, 'sensitivity': 0.8475689881734559, 'specificity': 0.8365243004418262}}\n",
      "Running combination: dp0.1_wd0_lr1e-05_bs64\n"
     ]
    },
    {
     "name": "stderr",
     "output_type": "stream",
     "text": [
      "Some weights of ViTForImageClassification were not initialized from the model checkpoint at google/vit-base-patch16-224-in21k and are newly initialized: ['classifier.bias', 'classifier.weight']\n",
      "You should probably TRAIN this model on a down-stream task to be able to use it for predictions and inference.\n",
      "Training: 100%|██████████| 79/79 [09:38<00:00,  7.32s/it]\n",
      "Validation: 100%|██████████| 12/12 [00:54<00:00,  4.51s/it]\n"
     ]
    },
    {
     "name": "stdout",
     "output_type": "stream",
     "text": [
      "Epoch 1/30: train_loss=0.5718, val_loss=0.5053\n"
     ]
    },
    {
     "name": "stderr",
     "output_type": "stream",
     "text": [
      "Training: 100%|██████████| 79/79 [09:44<00:00,  7.40s/it]\n",
      "Validation: 100%|██████████| 12/12 [00:51<00:00,  4.25s/it]\n"
     ]
    },
    {
     "name": "stdout",
     "output_type": "stream",
     "text": [
      "Epoch 2/30: train_loss=0.4445, val_loss=0.4573\n"
     ]
    },
    {
     "name": "stderr",
     "output_type": "stream",
     "text": [
      "Training: 100%|██████████| 79/79 [09:37<00:00,  7.32s/it]\n",
      "Validation: 100%|██████████| 12/12 [00:47<00:00,  3.98s/it]\n"
     ]
    },
    {
     "name": "stdout",
     "output_type": "stream",
     "text": [
      "Epoch 3/30: train_loss=0.4084, val_loss=0.4347\n"
     ]
    },
    {
     "name": "stderr",
     "output_type": "stream",
     "text": [
      "Training: 100%|██████████| 79/79 [09:36<00:00,  7.29s/it]\n",
      "Validation: 100%|██████████| 12/12 [00:43<00:00,  3.65s/it]\n"
     ]
    },
    {
     "name": "stdout",
     "output_type": "stream",
     "text": [
      "Epoch 4/30: train_loss=0.3852, val_loss=0.4250\n"
     ]
    },
    {
     "name": "stderr",
     "output_type": "stream",
     "text": [
      "Training: 100%|██████████| 79/79 [09:40<00:00,  7.35s/it]\n",
      "Validation: 100%|██████████| 12/12 [00:43<00:00,  3.66s/it]\n"
     ]
    },
    {
     "name": "stdout",
     "output_type": "stream",
     "text": [
      "Epoch 5/30: train_loss=0.3692, val_loss=0.4176\n"
     ]
    },
    {
     "name": "stderr",
     "output_type": "stream",
     "text": [
      "Training: 100%|██████████| 79/79 [09:34<00:00,  7.27s/it]\n",
      "Validation: 100%|██████████| 12/12 [00:43<00:00,  3.59s/it]\n"
     ]
    },
    {
     "name": "stdout",
     "output_type": "stream",
     "text": [
      "Epoch 6/30: train_loss=0.3513, val_loss=0.4106\n"
     ]
    },
    {
     "name": "stderr",
     "output_type": "stream",
     "text": [
      "Training: 100%|██████████| 79/79 [09:01<00:00,  6.85s/it]\n",
      "Validation: 100%|██████████| 12/12 [00:44<00:00,  3.69s/it]\n"
     ]
    },
    {
     "name": "stdout",
     "output_type": "stream",
     "text": [
      "Epoch 7/30: train_loss=0.3401, val_loss=0.4057\n"
     ]
    },
    {
     "name": "stderr",
     "output_type": "stream",
     "text": [
      "Training: 100%|██████████| 79/79 [09:30<00:00,  7.22s/it]\n",
      "Validation: 100%|██████████| 12/12 [00:44<00:00,  3.68s/it]\n"
     ]
    },
    {
     "name": "stdout",
     "output_type": "stream",
     "text": [
      "Epoch 8/30: train_loss=0.3251, val_loss=0.4085\n"
     ]
    },
    {
     "name": "stderr",
     "output_type": "stream",
     "text": [
      "Training: 100%|██████████| 79/79 [09:30<00:00,  7.23s/it]\n",
      "Validation: 100%|██████████| 12/12 [00:45<00:00,  3.77s/it]\n"
     ]
    },
    {
     "name": "stdout",
     "output_type": "stream",
     "text": [
      "Epoch 9/30: train_loss=0.3138, val_loss=0.3923\n"
     ]
    },
    {
     "name": "stderr",
     "output_type": "stream",
     "text": [
      "Training: 100%|██████████| 79/79 [10:15<00:00,  7.79s/it]\n",
      "Validation: 100%|██████████| 12/12 [00:44<00:00,  3.72s/it]\n"
     ]
    },
    {
     "name": "stdout",
     "output_type": "stream",
     "text": [
      "Epoch 10/30: train_loss=0.3034, val_loss=0.4184\n"
     ]
    },
    {
     "name": "stderr",
     "output_type": "stream",
     "text": [
      "Training: 100%|██████████| 79/79 [08:35<00:00,  6.52s/it]\n",
      "Validation: 100%|██████████| 12/12 [00:43<00:00,  3.64s/it]\n"
     ]
    },
    {
     "name": "stdout",
     "output_type": "stream",
     "text": [
      "Epoch 11/30: train_loss=0.2923, val_loss=0.3941\n"
     ]
    },
    {
     "name": "stderr",
     "output_type": "stream",
     "text": [
      "Training: 100%|██████████| 79/79 [08:23<00:00,  6.38s/it]\n",
      "Validation: 100%|██████████| 12/12 [00:43<00:00,  3.64s/it]\n"
     ]
    },
    {
     "name": "stdout",
     "output_type": "stream",
     "text": [
      "Epoch 12/30: train_loss=0.2861, val_loss=0.3873\n"
     ]
    },
    {
     "name": "stderr",
     "output_type": "stream",
     "text": [
      "Training: 100%|██████████| 79/79 [09:27<00:00,  7.18s/it]\n",
      "Validation: 100%|██████████| 12/12 [00:43<00:00,  3.62s/it]\n"
     ]
    },
    {
     "name": "stdout",
     "output_type": "stream",
     "text": [
      "Epoch 13/30: train_loss=0.2702, val_loss=0.3940\n"
     ]
    },
    {
     "name": "stderr",
     "output_type": "stream",
     "text": [
      "Training: 100%|██████████| 79/79 [09:20<00:00,  7.10s/it]\n",
      "Validation: 100%|██████████| 12/12 [00:42<00:00,  3.58s/it]\n"
     ]
    },
    {
     "name": "stdout",
     "output_type": "stream",
     "text": [
      "Epoch 14/30: train_loss=0.2606, val_loss=0.4116\n"
     ]
    },
    {
     "name": "stderr",
     "output_type": "stream",
     "text": [
      "Training: 100%|██████████| 79/79 [09:14<00:00,  7.02s/it]\n",
      "Validation: 100%|██████████| 12/12 [00:43<00:00,  3.63s/it]\n"
     ]
    },
    {
     "name": "stdout",
     "output_type": "stream",
     "text": [
      "Epoch 15/30: train_loss=0.2606, val_loss=0.4000\n"
     ]
    },
    {
     "name": "stderr",
     "output_type": "stream",
     "text": [
      "Training: 100%|██████████| 79/79 [08:40<00:00,  6.58s/it]\n",
      "Validation: 100%|██████████| 12/12 [00:43<00:00,  3.60s/it]\n"
     ]
    },
    {
     "name": "stdout",
     "output_type": "stream",
     "text": [
      "Epoch 16/30: train_loss=0.2449, val_loss=0.4020\n"
     ]
    },
    {
     "name": "stderr",
     "output_type": "stream",
     "text": [
      "Training: 100%|██████████| 79/79 [09:24<00:00,  7.14s/it]\n",
      "Validation: 100%|██████████| 12/12 [00:43<00:00,  3.63s/it]"
     ]
    },
    {
     "name": "stdout",
     "output_type": "stream",
     "text": [
      "Epoch 17/30: train_loss=0.2399, val_loss=0.4099\n",
      "Early stopping at epoch 17\n"
     ]
    },
    {
     "name": "stderr",
     "output_type": "stream",
     "text": [
      "\n"
     ]
    },
    {
     "data": {
      "image/png": "[encoded data removed]",
      "text/plain": [
       "<Figure size 640x480 with 2 Axes>"
      ]
     },
     "metadata": {},
     "output_type": "display_data"
    },
    {
     "data": {
      "image/png": "[encoded data removed]",
      "text/plain": [
       "<Figure size 640x480 with 2 Axes>"
      ]
     },
     "metadata": {},
     "output_type": "display_data"
    },
    {
     "name": "stdout",
     "output_type": "stream",
     "text": [
      "Metrics for dp0.1_wd0_lr1e-05_bs64: {'edema': {'precision': 0.7772861356932154, 'recall': 0.8472668810289389, 'f1': 0.8107692307692308, 'auroc': 0.9126280473903097, 'auprc': 0.8946176313447247, 'sensitivity': 0.8472668810289389, 'specificity': 0.815403422982885}, 'effusion': {'precision': 0.8381995133819952, 'recall': 0.9053876478318003, 'f1': 0.8704990524320909, 'auroc': 0.9287156075158837, 'auprc': 0.9299832572618092, 'sensitivity': 0.9053876478318003, 'specificity': 0.8041237113402062}}\n"
     ]
    }
   ],
   "source": [
    "for i in range(0, 3):\n",
    "    hyperparameters = hyperparameter_combinations[i]\n",
    "    execute_hyperparameter_combinations(hyperparameters)"
   ]
  },
  {
   "cell_type": "code",
   "execution_count": 20,
   "id": "936bd251",
   "metadata": {},
   "outputs": [
    {
     "name": "stdout",
     "output_type": "stream",
     "text": [
      "[{'dropout_rate': 0.1, 'weight_decay': 0, 'learning_rate': 1e-05, 'batch_size': 16, 'num_epochs': 30}, {'dropout_rate': 0.1, 'weight_decay': 0, 'learning_rate': 1e-05, 'batch_size': 32, 'num_epochs': 30}, {'dropout_rate': 0.1, 'weight_decay': 0, 'learning_rate': 1e-05, 'batch_size': 64, 'num_epochs': 30}, {'dropout_rate': 0.1, 'weight_decay': 0, 'learning_rate': 5e-05, 'batch_size': 16, 'num_epochs': 20}, {'dropout_rate': 0.1, 'weight_decay': 0, 'learning_rate': 5e-05, 'batch_size': 32, 'num_epochs': 20}, {'dropout_rate': 0.1, 'weight_decay': 0, 'learning_rate': 5e-05, 'batch_size': 64, 'num_epochs': 20}, {'dropout_rate': 0.1, 'weight_decay': 0, 'learning_rate': 0.0002, 'batch_size': 16, 'num_epochs': 20}, {'dropout_rate': 0.1, 'weight_decay': 0, 'learning_rate': 0.0002, 'batch_size': 32, 'num_epochs': 20}, {'dropout_rate': 0.1, 'weight_decay': 0, 'learning_rate': 0.0002, 'batch_size': 64, 'num_epochs': 20}, {'dropout_rate': 0.1, 'weight_decay': 0.01, 'learning_rate': 1e-05, 'batch_size': 16, 'num_epochs': 20}, {'dropout_rate': 0.1, 'weight_decay': 0.01, 'learning_rate': 1e-05, 'batch_size': 32, 'num_epochs': 20}, {'dropout_rate': 0.1, 'weight_decay': 0.01, 'learning_rate': 1e-05, 'batch_size': 64, 'num_epochs': 20}, {'dropout_rate': 0.1, 'weight_decay': 0.01, 'learning_rate': 5e-05, 'batch_size': 16, 'num_epochs': 20}, {'dropout_rate': 0.1, 'weight_decay': 0.01, 'learning_rate': 5e-05, 'batch_size': 32, 'num_epochs': 20}, {'dropout_rate': 0.1, 'weight_decay': 0.01, 'learning_rate': 5e-05, 'batch_size': 64, 'num_epochs': 20}, {'dropout_rate': 0.1, 'weight_decay': 0.01, 'learning_rate': 0.0002, 'batch_size': 16, 'num_epochs': 20}, {'dropout_rate': 0.1, 'weight_decay': 0.01, 'learning_rate': 0.0002, 'batch_size': 32, 'num_epochs': 20}, {'dropout_rate': 0.1, 'weight_decay': 0.01, 'learning_rate': 0.0002, 'batch_size': 64, 'num_epochs': 20}, {'dropout_rate': 0.1, 'weight_decay': 0.1, 'learning_rate': 1e-05, 'batch_size': 16, 'num_epochs': 20}, {'dropout_rate': 0.1, 'weight_decay': 0.1, 'learning_rate': 1e-05, 'batch_size': 32, 'num_epochs': 20}, {'dropout_rate': 0.1, 'weight_decay': 0.1, 'learning_rate': 1e-05, 'batch_size': 64, 'num_epochs': 20}, {'dropout_rate': 0.1, 'weight_decay': 0.1, 'learning_rate': 5e-05, 'batch_size': 16, 'num_epochs': 20}, {'dropout_rate': 0.1, 'weight_decay': 0.1, 'learning_rate': 5e-05, 'batch_size': 32, 'num_epochs': 20}, {'dropout_rate': 0.1, 'weight_decay': 0.1, 'learning_rate': 5e-05, 'batch_size': 64, 'num_epochs': 20}, {'dropout_rate': 0.1, 'weight_decay': 0.1, 'learning_rate': 0.0002, 'batch_size': 16, 'num_epochs': 20}, {'dropout_rate': 0.1, 'weight_decay': 0.1, 'learning_rate': 0.0002, 'batch_size': 32, 'num_epochs': 20}, {'dropout_rate': 0.1, 'weight_decay': 0.1, 'learning_rate': 0.0002, 'batch_size': 64, 'num_epochs': 20}, {'dropout_rate': 0.2, 'weight_decay': 0, 'learning_rate': 1e-05, 'batch_size': 16, 'num_epochs': 20}, {'dropout_rate': 0.2, 'weight_decay': 0, 'learning_rate': 1e-05, 'batch_size': 32, 'num_epochs': 20}, {'dropout_rate': 0.2, 'weight_decay': 0, 'learning_rate': 1e-05, 'batch_size': 64, 'num_epochs': 20}, {'dropout_rate': 0.2, 'weight_decay': 0, 'learning_rate': 5e-05, 'batch_size': 16, 'num_epochs': 20}, {'dropout_rate': 0.2, 'weight_decay': 0, 'learning_rate': 5e-05, 'batch_size': 32, 'num_epochs': 20}, {'dropout_rate': 0.2, 'weight_decay': 0, 'learning_rate': 5e-05, 'batch_size': 64, 'num_epochs': 20}, {'dropout_rate': 0.2, 'weight_decay': 0, 'learning_rate': 0.0002, 'batch_size': 16, 'num_epochs': 20}, {'dropout_rate': 0.2, 'weight_decay': 0, 'learning_rate': 0.0002, 'batch_size': 32, 'num_epochs': 20}, {'dropout_rate': 0.2, 'weight_decay': 0, 'learning_rate': 0.0002, 'batch_size': 64, 'num_epochs': 20}, {'dropout_rate': 0.2, 'weight_decay': 0.01, 'learning_rate': 1e-05, 'batch_size': 16, 'num_epochs': 20}, {'dropout_rate': 0.2, 'weight_decay': 0.01, 'learning_rate': 1e-05, 'batch_size': 32, 'num_epochs': 20}, {'dropout_rate': 0.2, 'weight_decay': 0.01, 'learning_rate': 1e-05, 'batch_size': 64, 'num_epochs': 20}, {'dropout_rate': 0.2, 'weight_decay': 0.01, 'learning_rate': 5e-05, 'batch_size': 16, 'num_epochs': 20}, {'dropout_rate': 0.2, 'weight_decay': 0.01, 'learning_rate': 5e-05, 'batch_size': 32, 'num_epochs': 20}, {'dropout_rate': 0.2, 'weight_decay': 0.01, 'learning_rate': 5e-05, 'batch_size': 64, 'num_epochs': 20}, {'dropout_rate': 0.2, 'weight_decay': 0.01, 'learning_rate': 0.0002, 'batch_size': 16, 'num_epochs': 20}, {'dropout_rate': 0.2, 'weight_decay': 0.01, 'learning_rate': 0.0002, 'batch_size': 32, 'num_epochs': 20}, {'dropout_rate': 0.2, 'weight_decay': 0.01, 'learning_rate': 0.0002, 'batch_size': 64, 'num_epochs': 20}, {'dropout_rate': 0.2, 'weight_decay': 0.1, 'learning_rate': 1e-05, 'batch_size': 16, 'num_epochs': 20}, {'dropout_rate': 0.2, 'weight_decay': 0.1, 'learning_rate': 1e-05, 'batch_size': 32, 'num_epochs': 20}, {'dropout_rate': 0.2, 'weight_decay': 0.1, 'learning_rate': 1e-05, 'batch_size': 64, 'num_epochs': 20}, {'dropout_rate': 0.2, 'weight_decay': 0.1, 'learning_rate': 5e-05, 'batch_size': 16, 'num_epochs': 20}, {'dropout_rate': 0.2, 'weight_decay': 0.1, 'learning_rate': 5e-05, 'batch_size': 32, 'num_epochs': 20}, {'dropout_rate': 0.2, 'weight_decay': 0.1, 'learning_rate': 5e-05, 'batch_size': 64, 'num_epochs': 20}, {'dropout_rate': 0.2, 'weight_decay': 0.1, 'learning_rate': 0.0002, 'batch_size': 16, 'num_epochs': 20}, {'dropout_rate': 0.2, 'weight_decay': 0.1, 'learning_rate': 0.0002, 'batch_size': 32, 'num_epochs': 20}, {'dropout_rate': 0.2, 'weight_decay': 0.1, 'learning_rate': 0.0002, 'batch_size': 64, 'num_epochs': 20}]\n"
     ]
    }
   ],
   "source": [
    "# change epochs to 20 to all of them\n",
    "for i in range(3, len(hyperparameter_combinations)):\n",
    "    hyperparameters = hyperparameter_combinations[i]\n",
    "    hyperparameters['num_epochs'] = 20\n",
    "\n",
    "print(hyperparameter_combinations)"
   ]
  },
  {
   "cell_type": "code",
   "execution_count": null,
   "id": "e7e0810d",
   "metadata": {},
   "outputs": [],
   "source": [
    "for i in range(3, 6):\n",
    "    hyperparameters = hyperparameter_combinations[i]\n",
    "    execute_hyperparameter_combinations(hyperparameters)"
   ]
  }
 ],
 "metadata": {
  "kernelspec": {
   "display_name": "Python 3",
   "language": "python",
   "name": "python3"
  },
  "language_info": {
   "codemirror_mode": {
    "name": "ipython",
    "version": 3
   },
   "file_extension": ".py",
   "mimetype": "text/x-python",
   "name": "python",
   "nbconvert_exporter": "python",
   "pygments_lexer": "ipython3",
   "version": "3.10.12"
  }
 },
 "nbformat": 4,
 "nbformat_minor": 5
}

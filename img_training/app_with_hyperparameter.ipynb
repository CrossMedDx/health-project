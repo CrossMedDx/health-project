{
 "cells": [
  {
   "cell_type": "markdown",
   "id": "0449acf8",
   "metadata": {},
   "source": [
    "# Package imports"
   ]
  },
  {
   "cell_type": "code",
   "execution_count": null,
   "id": "a85e044b",
   "metadata": {},
   "outputs": [
    {
     "name": "stderr",
     "output_type": "stream",
     "text": [
      "/home/han/.local/lib/python3.10/site-packages/tqdm/auto.py:21: TqdmWarning: IProgress not found. Please update jupyter and ipywidgets. See https://ipywidgets.readthedocs.io/en/stable/user_install.html\n",
      "  from .autonotebook import tqdm as notebook_tqdm\n"
     ]
    }
   ],
   "source": [
    "import os\n",
    "import pydicom\n",
    "import torch\n",
    "import torch.nn as nn\n",
    "import torch.optim as optim\n",
    "import pandas as pd\n",
    "import numpy as np\n",
    "from torch.utils.data import DataLoader, Dataset\n",
    "from sklearn.model_selection import train_test_split\n",
    "from sklearn.metrics import precision_score, recall_score, f1_score, roc_auc_score\n",
    "from torchvision import transforms, datasets\n",
    "from transformers import ViTForImageClassification, ViTFeatureExtractor\n",
    "from PIL import Image"
   ]
  },
  {
   "cell_type": "markdown",
   "id": "078f6776",
   "metadata": {},
   "source": [
    "Hyperparameters"
   ]
  },
  {
   "cell_type": "code",
   "execution_count": null,
   "id": "1704754f",
   "metadata": {},
   "outputs": [],
   "source": [
    "dropout_rate  = 0.2       # classifier dropout in ViT\n",
    "weight_decay  = 1e-2      # optimizer weight decay\n",
    "learning_rate = 3e-5      # optimizer learning rate\n",
    "batch_size    = 16        # train & test batch size\n",
    "num_epochs    = 10        # total epochs\n",
    "random_seed   = 42"
   ]
  },
  {
   "cell_type": "markdown",
   "id": "71832f4c",
   "metadata": {},
   "source": [
    "## Data Preprocessing (Resize, Augmentation, Normalization)"
   ]
  },
  {
   "cell_type": "code",
   "execution_count": null,
   "id": "b811a850",
   "metadata": {},
   "outputs": [],
   "source": [
    "class CustomMedicalImageDataset(Dataset):\n",
    "    def __init__(self, image_paths, labels, transform=None):\n",
    "        self.image_paths = image_paths\n",
    "        self.labels = labels\n",
    "        self.transform = transform\n",
    "\n",
    "    def __len__(self):\n",
    "        return len(self.image_paths)\n",
    "\n",
    "    def __getitem__(self, idx):\n",
    "        # Load the DICOM image\n",
    "        dicom_image = pydicom.dcmread(self.image_paths[idx])\n",
    "        pixel_array = dicom_image.pixel_array\n",
    "\n",
    "        # Normalize the pixel values to [0, 255] and convert to 3-channel image\n",
    "        image = Image.fromarray(\n",
    "            (pixel_array / np.max(pixel_array) * 255).astype(np.uint8)\n",
    "        ).convert(\"RGB\")\n",
    "        label = self.labels[idx]\n",
    "\n",
    "        if self.transform:\n",
    "            image = self.transform(image)\n",
    "\n",
    "        return image, label\n",
    "\n",
    "\n",
    "# Define transformations (resize, augment, normalize)\n",
    "transform = transforms.Compose(\n",
    "    [\n",
    "        transforms.Resize((224, 224)),\n",
    "        transforms.RandomHorizontalFlip(),\n",
    "        transforms.RandomRotation(20),\n",
    "        transforms.ColorJitter(brightness=0.2, contrast=0.2, saturation=0.2, hue=0.2),\n",
    "        transforms.ToTensor(),\n",
    "        transforms.Normalize(\n",
    "            mean=[0.485, 0.456, 0.406], std=[0.229, 0.224, 0.225]\n",
    "        ),  # ViT default mean and std\n",
    "    ]\n",
    ")"
   ]
  },
  {
   "cell_type": "markdown",
   "id": "b0239533",
   "metadata": {},
   "source": [
    "## Load Image Paths and Labels"
   ]
  },
  {
   "cell_type": "code",
   "execution_count": null,
   "id": "ce96336d",
   "metadata": {},
   "outputs": [],
   "source": [
    "image_data_dir = \"../download_data/mimic-cxr-download/imageData/\"\n",
    "image_paths = []\n",
    "for root, _, files in os.walk(image_data_dir):\n",
    "    for file in files:\n",
    "        if file.endswith(\".dcm\"):\n",
    "            image_path = os.path.join(root, file)\n",
    "            image_paths.append(image_path)\n",
    "\n",
    "labels_csv_path = \"../download_data/metadata/pleural_effusion_samples.csv\"\n",
    "labels_df = pd.read_csv(labels_csv_path)\n",
    "\n",
    "# Prepend \"s\" to study_id in the CSV\n",
    "labels_df[\"study_id\"] = \"s\" + labels_df[\"study_id\"].astype(str)\n",
    "\n",
    "# Create a mapping of study_id to label\n",
    "labels_mapping = {row[\"study_id\"]: row[\"class\"] for _, row in labels_df.iterrows()}\n",
    "# Create labels list based on image paths\n",
    "labels = []\n",
    "for image_path in image_paths:\n",
    "    study_id = os.path.basename(os.path.dirname(os.path.dirname(image_path)))\n",
    "    labels.append(labels_mapping.get(study_id, -1))  # Default to -1 if not found\n",
    "\n",
    "# add 1 to labels to make them 0, 1, 2 instead of -1, 0, 1\n",
    "labels = [label + 1 for label in labels]"
   ]
  },
  {
   "cell_type": "markdown",
   "id": "35ac5ad0",
   "metadata": {},
   "source": [
    "## Split the dataset into Training and Testing (80:20 ratio)"
   ]
  },
  {
   "cell_type": "code",
   "execution_count": null,
   "id": "94ca5e02",
   "metadata": {},
   "outputs": [],
   "source": [
    "train_image_paths, test_image_paths, train_labels, test_labels = train_test_split(\n",
    "    image_paths, labels, test_size=0.2, random_state=random_seed, stratify=labels)\n",
    "\n",
    "# Create DataLoader for training and testing datasets\n",
    "train_dataset = CustomMedicalImageDataset(\n",
    "    image_paths=train_image_paths, labels=train_labels, transform=transform\n",
    ")\n",
    "train_loader = DataLoader(\n",
    "    train_dataset, batch_size=batch_size, shuffle=True, num_workers=4\n",
    ")\n",
    "\n",
    "test_dataset = CustomMedicalImageDataset(\n",
    "    image_paths=test_image_paths, labels=test_labels, transform=transform\n",
    ")\n",
    "test_loader  = DataLoader(\n",
    "    test_dataset,  batch_size=batch_size, shuffle=False, num_workers=4\n",
    ")"
   ]
  },
  {
   "cell_type": "markdown",
   "id": "093f443c",
   "metadata": {},
   "source": [
    "## Load Pre-trained ViT Model"
   ]
  },
  {
   "cell_type": "code",
   "execution_count": null,
   "id": "aaa1c114",
   "metadata": {},
   "outputs": [
    {
     "name": "stderr",
     "output_type": "stream",
     "text": [
      "Some weights of ViTForImageClassification were not initialized from the model checkpoint at google/vit-base-patch16-224-in21k and are newly initialized: ['classifier.bias', 'classifier.weight']\n",
      "You should probably TRAIN this model on a down-stream task to be able to use it for predictions and inference.\n"
     ]
    }
   ],
   "source": [
    "model = ViTForImageClassification.from_pretrained(\n",
    "    \"google/vit-base-patch16-224-in21k\", num_labels=3\n",
    ")  # num_labels=3 for three classes"
   ]
  },
  {
   "cell_type": "markdown",
   "id": "11fc40c6",
   "metadata": {},
   "source": [
    "## Set up Optimizer and Loss Function"
   ]
  },
  {
   "cell_type": "code",
   "execution_count": null,
   "id": "b280d50a",
   "metadata": {},
   "outputs": [],
   "source": [
    "model.config.classifier_dropout = dropout_rate\n",
    "\n",
    "# AdamW optimizer with weight decay\n",
    "optimizer = optim.AdamW(\n",
    "    model.parameters(),\n",
    "    lr=learning_rate,\n",
    "    weight_decay=weight_decay\n",
    ")\n",
    "criterion = nn.CrossEntropyLoss(label_smoothing=0.0)\n"
   ]
  },
  {
   "cell_type": "markdown",
   "id": "2573e957",
   "metadata": {},
   "source": [
    "## Training Loop"
   ]
  },
  {
   "cell_type": "code",
   "execution_count": null,
   "id": "183cb3aa",
   "metadata": {},
   "outputs": [],
   "source": [
    "device = torch.device(\"cuda\" if torch.cuda.is_available() else \"cpu\")\n",
    "model.to(device)\n",
    "\n",
    "\n",
    "def train_model(model, train_loader, optimizer, criterion, epochs=10):\n",
    "    model.train()\n",
    "    for epoch in range(epochs):\n",
    "        running_loss = 0.0\n",
    "        for images, labels in train_loader:\n",
    "            images, labels = images.to(device), labels.to(device)\n",
    "\n",
    "            # Zero gradients\n",
    "            optimizer.zero_grad()\n",
    "\n",
    "            # Forward pass\n",
    "            outputs = model(images).logits\n",
    "            loss = criterion(outputs, labels)\n",
    "\n",
    "            # Backward pass\n",
    "            loss.backward()\n",
    "            optimizer.step()\n",
    "\n",
    "            running_loss += loss.item()\n",
    "\n",
    "        avg_loss = running_loss / len(train_loader)\n",
    "        print(f\"Epoch {epoch+1}/{epochs}, Loss: {avg_loss:.4f}\")"
   ]
  },
  {
   "cell_type": "markdown",
   "id": "27e1aef8",
   "metadata": {},
   "source": [
    "## Fine-tuning the ViT Model"
   ]
  },
  {
   "cell_type": "code",
   "execution_count": null,
   "id": "c2bafba0",
   "metadata": {},
   "outputs": [
    {
     "name": "stdout",
     "output_type": "stream",
     "text": [
      "Epoch 1/20, Loss: 0.8750\n",
      "Epoch 2/20, Loss: 0.7936\n",
      "Epoch 3/20, Loss: 0.6959\n",
      "Epoch 4/20, Loss: 0.6582\n",
      "Epoch 5/20, Loss: 0.5670\n",
      "Epoch 6/20, Loss: 0.5255\n",
      "Epoch 7/20, Loss: 0.5247\n",
      "Epoch 8/20, Loss: 0.4516\n",
      "Epoch 9/20, Loss: 0.4267\n",
      "Epoch 10/20, Loss: 0.3365\n",
      "Epoch 11/20, Loss: 0.3293\n",
      "Epoch 12/20, Loss: 0.3055\n",
      "Epoch 13/20, Loss: 0.2324\n",
      "Epoch 14/20, Loss: 0.2527\n",
      "Epoch 15/20, Loss: 0.2037\n",
      "Epoch 16/20, Loss: 0.2128\n",
      "Epoch 17/20, Loss: 0.1315\n",
      "Epoch 18/20, Loss: 0.1009\n",
      "Epoch 19/20, Loss: 0.0733\n",
      "Epoch 20/20, Loss: 0.0708\n"
     ]
    }
   ],
   "source": [
    "# Fine-tune for a few epochs to adapt to your dataset\n",
    "# train_model(model, train_loader, optimizer, criterion, epochs=20)"
   ]
  },
  {
   "cell_type": "markdown",
   "id": "dd508ff7",
   "metadata": {},
   "source": [
    "## Evaluation"
   ]
  },
  {
   "cell_type": "code",
   "execution_count": null,
   "id": "de0ead10",
   "metadata": {},
   "outputs": [
    {
     "name": "stdout",
     "output_type": "stream",
     "text": [
      "Precision: 0.5949\n",
      "Recall: 0.5683\n",
      "F1-Score: 0.5649\n",
      "AUROC: 0.7170\n"
     ]
    }
   ],
   "source": [
    "label_set = [0, 1, 2]\n",
    "# Define evaluation metrics\n",
    "def evaluate_model(model, test_loader):\n",
    "    model.eval()\n",
    "    all_labels = []\n",
    "    all_preds = []\n",
    "    all_probs = []\n",
    "\n",
    "    with torch.no_grad():\n",
    "        for images, labels in test_loader:\n",
    "            images, labels = images.to(device), labels.to(device)\n",
    "\n",
    "            # Forward pass\n",
    "            outputs = model(images).logits\n",
    "            probs  = torch.softmax(outputs, dim=1)\n",
    "\n",
    "            preds = probs.argmax(dim=1)\n",
    "\n",
    "            all_labels.extend(labels.cpu().numpy())\n",
    "            all_preds.extend(preds.cpu().numpy())\n",
    "            all_probs.extend(probs.cpu().numpy()\n",
    "            )  # Probabilities for AUROC\n",
    "\n",
    "    precision = precision_score(\n",
    "        all_labels, all_preds, average=\"macro\", labels=label_set\n",
    "    )\n",
    "    recall = recall_score(all_labels, all_preds, average=\"macro\", labels=label_set)\n",
    "    f1 = f1_score(all_labels, all_preds, average=\"macro\", labels=label_set)\n",
    "    # Compute AUROC by considering each class one-vs-rest\n",
    "    auroc = roc_auc_score(\n",
    "        all_labels, np.array(all_probs), multi_class=\"ovr\", average=\"macro\"\n",
    "    )\n",
    "\n",
    "    print(f\"Precision: {precision:.4f}\")\n",
    "    print(f\"Recall: {recall:.4f}\")\n",
    "    print(f\"F1-Score: {f1:.4f}\")\n",
    "    print(f\"AUROC: {auroc:.4f}\")\n",
    "\n",
    "\n",
    "# Run Training & Evaluation\n",
    "    \n",
    "if __name__ == \"__main__\":\n",
    "    print(\"Starting training with:\")\n",
    "    print(f\"  dropout_rate  = {dropout_rate}\")\n",
    "    print(f\"  weight_decay  = {weight_decay}\")\n",
    "    print(f\"  learning_rate = {learning_rate}\")\n",
    "    print(f\"  batch_size    = {batch_size}\")\n",
    "    print(f\"  num_epochs    = {num_epochs}\\n\")\n",
    "\n",
    "    train_model(model, train_loader, optimizer, criterion, num_epochs)\n",
    "    print(\"\\nEvaluating on test set:\")\n",
    "    evaluate_model(model, test_loader)\n"
   ]
  }
 ],
 "metadata": {
  "language_info": {
   "name": "python"
  }
 },
 "nbformat": 4,
 "nbformat_minor": 5
}
